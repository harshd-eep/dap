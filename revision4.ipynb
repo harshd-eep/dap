{
 "cells": [
  {
   "cell_type": "code",
   "execution_count": 6,
   "id": "920922ab",
   "metadata": {},
   "outputs": [
    {
     "name": "stdout",
     "output_type": "stream",
     "text": [
      "30\n",
      "120\n",
      "300\n"
     ]
    }
   ],
   "source": [
    "def f1(a=10,b=20):\n",
    "    return a+b\n",
    "print(f1())\n",
    "print(f1(100))\n",
    "print(f1(100,200))"
   ]
  },
  {
   "cell_type": "code",
   "execution_count": 8,
   "id": "43f56101",
   "metadata": {},
   "outputs": [
    {
     "name": "stdout",
     "output_type": "stream",
     "text": [
      "38\n"
     ]
    }
   ],
   "source": [
    "#ax**2+bx+c\n",
    "def f1(a,b,c):\n",
    "    return lambda x: print(a*pow(x,2) +b*x +c)\n",
    "\n",
    "f2=f1(a=1,b=2,c=3)\n",
    "f2(x=5)"
   ]
  },
  {
   "cell_type": "code",
   "execution_count": null,
   "id": "ed9eb607",
   "metadata": {},
   "outputs": [],
   "source": []
  }
 ],
 "metadata": {
  "kernelspec": {
   "display_name": "Python 3 (ipykernel)",
   "language": "python",
   "name": "python3"
  },
  "language_info": {
   "codemirror_mode": {
    "name": "ipython",
    "version": 3
   },
   "file_extension": ".py",
   "mimetype": "text/x-python",
   "name": "python",
   "nbconvert_exporter": "python",
   "pygments_lexer": "ipython3",
   "version": "3.9.7"
  }
 },
 "nbformat": 4,
 "nbformat_minor": 5
}
